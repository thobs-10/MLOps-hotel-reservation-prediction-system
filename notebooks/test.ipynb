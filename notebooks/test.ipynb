{
 "cells": [
  {
   "cell_type": "code",
   "execution_count": 2,
   "id": "d064eca2",
   "metadata": {},
   "outputs": [],
   "source": [
    "import pandas as pd\n",
    "import numpy as np"
   ]
  },
  {
   "cell_type": "code",
   "execution_count": 2,
   "id": "de813522",
   "metadata": {},
   "outputs": [],
   "source": [
    "aplus_df = pd.read_csv(\n",
    "    \"/Users/thobelasixpence/Documents/mlops-zoomcamp-project-2024/MLOps-hotel-reservation-prediction-system/data/raw/aplus_transactions.csv\"\n",
    ")\n",
    "bill_df = pd.read_csv(\n",
    "    \"/Users/thobelasixpence/Documents/mlops-zoomcamp-project-2024/MLOps-hotel-reservation-prediction-system/data/raw/bill_payments.csv\"\n",
    ")\n",
    "laybye_df = pd.read_csv(\n",
    "    \"/Users/thobelasixpence/Documents/mlops-zoomcamp-project-2024/MLOps-hotel-reservation-prediction-system/data/raw/layby_transactions.csv\"\n",
    ")\n",
    "online_payments_df = pd.read_csv(\n",
    "    \"/Users/thobelasixpence/Documents/mlops-zoomcamp-project-2024/MLOps-hotel-reservation-prediction-system/data/raw/online_payment_transactions.csv\"\n",
    ")\n",
    "vcs_df = pd.read_csv(\n",
    "    \"/Users/thobelasixpence/Documents/mlops-zoomcamp-project-2024/MLOps-hotel-reservation-prediction-system/data/raw/vcs_transactions.csv\"\n",
    ")\n",
    "voucher_df = pd.read_csv(\n",
    "    \"/Users/thobelasixpence/Documents/mlops-zoomcamp-project-2024/MLOps-hotel-reservation-prediction-system/data/raw/voucher_transactions.csv\"\n",
    ")"
   ]
  },
  {
   "cell_type": "code",
   "execution_count": null,
   "id": "fe91a608",
   "metadata": {},
   "outputs": [],
   "source": [
    "def list_columns_in_df(df: pd.DataFrame, df_name: str) -> None:\n",
    "    print(f\"columns in {df_name}:\")\n",
    "    full_column_string: str = \"\"\n",
    "    for col in df.columns:\n",
    "        full_column_string += f\" | {col}\"\n",
    "    print(full_column_string)\n",
    "\n",
    "\n",
    "# def list_columns_first_n_rows"
   ]
  },
  {
   "cell_type": "code",
   "execution_count": 9,
   "id": "291d40f2",
   "metadata": {},
   "outputs": [
    {
     "data": {
      "application/vnd.microsoft.datawrangler.viewer.v0+json": {
       "columns": [
        {
         "name": "index",
         "rawType": "int64",
         "type": "integer"
        },
        {
         "name": "id",
         "rawType": "int64",
         "type": "integer"
        },
        {
         "name": "user_id",
         "rawType": "object",
         "type": "string"
        },
        {
         "name": "transaction_type_id",
         "rawType": "int64",
         "type": "integer"
        },
        {
         "name": "account_number",
         "rawType": "object",
         "type": "string"
        },
        {
         "name": "amount",
         "rawType": "int64",
         "type": "integer"
        },
        {
         "name": "reference",
         "rawType": "float64",
         "type": "float"
        },
        {
         "name": "response_code",
         "rawType": "float64",
         "type": "float"
        },
        {
         "name": "response_description",
         "rawType": "float64",
         "type": "float"
        },
        {
         "name": "last_updated",
         "rawType": "object",
         "type": "string"
        },
        {
         "name": "reference_id",
         "rawType": "object",
         "type": "string"
        },
        {
         "name": "payment_number",
         "rawType": "float64",
         "type": "float"
        },
        {
         "name": "transaction_id",
         "rawType": "float64",
         "type": "float"
        },
        {
         "name": "user_account_id",
         "rawType": "int64",
         "type": "integer"
        },
        {
         "name": "status",
         "rawType": "object",
         "type": "string"
        },
        {
         "name": "tender_type_id",
         "rawType": "float64",
         "type": "float"
        },
        {
         "name": "store_number",
         "rawType": "int64",
         "type": "integer"
        },
        {
         "name": "till_number",
         "rawType": "int64",
         "type": "integer"
        },
        {
         "name": "sale_number",
         "rawType": "int64",
         "type": "integer"
        },
        {
         "name": "channel",
         "rawType": "object",
         "type": "string"
        },
        {
         "name": "guid",
         "rawType": "object",
         "type": "string"
        },
        {
         "name": "channel_id",
         "rawType": "int64",
         "type": "integer"
        },
        {
         "name": "country",
         "rawType": "object",
         "type": "string"
        },
        {
         "name": "subsidiary_id",
         "rawType": "int64",
         "type": "integer"
        },
        {
         "name": "company_id",
         "rawType": "int64",
         "type": "integer"
        },
        {
         "name": "institution_id",
         "rawType": "int64",
         "type": "integer"
        },
        {
         "name": "provider_id",
         "rawType": "int64",
         "type": "integer"
        },
        {
         "name": "tracking_id",
         "rawType": "int64",
         "type": "integer"
        },
        {
         "name": "rec_number",
         "rawType": "int64",
         "type": "integer"
        },
        {
         "name": "external_reference_number",
         "rawType": "float64",
         "type": "float"
        }
       ],
       "ref": "b4e3d224-ce9b-43f1-81ca-0170f17e1c65",
       "rows": [
        [
         "47",
         "32113",
         "anon",
         "8",
         "A+APPLICATION",
         "0",
         null,
         null,
         null,
         "2025-06-06 09:20:33",
         "0208940400000287494ZA01001001420250606",
         null,
         null,
         "0",
         "S",
         null,
         "894",
         "4",
         "287494",
         "GPOS",
         "8C6F7FB6-7F6C-48EE-8A3E-66671608E9FC",
         "1",
         "ZA",
         "2",
         "1",
         "0",
         "0",
         "0",
         "0",
         null
        ],
        [
         "53",
         "32107",
         "anon",
         "8",
         "A+APPLICATION",
         "0",
         null,
         null,
         null,
         "2025-06-06 09:12:17",
         "0207810100000453736ZA01001001420250606",
         null,
         null,
         "0",
         "S",
         null,
         "781",
         "1",
         "453736",
         "GPOS",
         "C169AE14-4531-4C96-B9B0-5799F904D93C",
         "1",
         "ZA",
         "2",
         "1",
         "0",
         "0",
         "0",
         "0",
         null
        ]
       ],
       "shape": {
        "columns": 29,
        "rows": 2
       }
      },
      "text/html": [
       "<div>\n",
       "<style scoped>\n",
       "    .dataframe tbody tr th:only-of-type {\n",
       "        vertical-align: middle;\n",
       "    }\n",
       "\n",
       "    .dataframe tbody tr th {\n",
       "        vertical-align: top;\n",
       "    }\n",
       "\n",
       "    .dataframe thead th {\n",
       "        text-align: right;\n",
       "    }\n",
       "</style>\n",
       "<table border=\"1\" class=\"dataframe\">\n",
       "  <thead>\n",
       "    <tr style=\"text-align: right;\">\n",
       "      <th></th>\n",
       "      <th>id</th>\n",
       "      <th>user_id</th>\n",
       "      <th>transaction_type_id</th>\n",
       "      <th>account_number</th>\n",
       "      <th>amount</th>\n",
       "      <th>reference</th>\n",
       "      <th>response_code</th>\n",
       "      <th>response_description</th>\n",
       "      <th>last_updated</th>\n",
       "      <th>reference_id</th>\n",
       "      <th>...</th>\n",
       "      <th>guid</th>\n",
       "      <th>channel_id</th>\n",
       "      <th>country</th>\n",
       "      <th>subsidiary_id</th>\n",
       "      <th>company_id</th>\n",
       "      <th>institution_id</th>\n",
       "      <th>provider_id</th>\n",
       "      <th>tracking_id</th>\n",
       "      <th>rec_number</th>\n",
       "      <th>external_reference_number</th>\n",
       "    </tr>\n",
       "  </thead>\n",
       "  <tbody>\n",
       "    <tr>\n",
       "      <th>47</th>\n",
       "      <td>32113</td>\n",
       "      <td>anon</td>\n",
       "      <td>8</td>\n",
       "      <td>A+APPLICATION</td>\n",
       "      <td>0</td>\n",
       "      <td>NaN</td>\n",
       "      <td>NaN</td>\n",
       "      <td>NaN</td>\n",
       "      <td>2025-06-06 09:20:33</td>\n",
       "      <td>0208940400000287494ZA01001001420250606</td>\n",
       "      <td>...</td>\n",
       "      <td>8C6F7FB6-7F6C-48EE-8A3E-66671608E9FC</td>\n",
       "      <td>1</td>\n",
       "      <td>ZA</td>\n",
       "      <td>2</td>\n",
       "      <td>1</td>\n",
       "      <td>0</td>\n",
       "      <td>0</td>\n",
       "      <td>0</td>\n",
       "      <td>0</td>\n",
       "      <td>NaN</td>\n",
       "    </tr>\n",
       "    <tr>\n",
       "      <th>53</th>\n",
       "      <td>32107</td>\n",
       "      <td>anon</td>\n",
       "      <td>8</td>\n",
       "      <td>A+APPLICATION</td>\n",
       "      <td>0</td>\n",
       "      <td>NaN</td>\n",
       "      <td>NaN</td>\n",
       "      <td>NaN</td>\n",
       "      <td>2025-06-06 09:12:17</td>\n",
       "      <td>0207810100000453736ZA01001001420250606</td>\n",
       "      <td>...</td>\n",
       "      <td>C169AE14-4531-4C96-B9B0-5799F904D93C</td>\n",
       "      <td>1</td>\n",
       "      <td>ZA</td>\n",
       "      <td>2</td>\n",
       "      <td>1</td>\n",
       "      <td>0</td>\n",
       "      <td>0</td>\n",
       "      <td>0</td>\n",
       "      <td>0</td>\n",
       "      <td>NaN</td>\n",
       "    </tr>\n",
       "  </tbody>\n",
       "</table>\n",
       "<p>2 rows × 29 columns</p>\n",
       "</div>"
      ],
      "text/plain": [
       "       id user_id  transaction_type_id account_number  amount  reference  \\\n",
       "47  32113    anon                    8  A+APPLICATION       0        NaN   \n",
       "53  32107    anon                    8  A+APPLICATION       0        NaN   \n",
       "\n",
       "    response_code  response_description         last_updated  \\\n",
       "47            NaN                   NaN  2025-06-06 09:20:33   \n",
       "53            NaN                   NaN  2025-06-06 09:12:17   \n",
       "\n",
       "                              reference_id  ...  \\\n",
       "47  0208940400000287494ZA01001001420250606  ...   \n",
       "53  0207810100000453736ZA01001001420250606  ...   \n",
       "\n",
       "                                    guid  channel_id  country subsidiary_id  \\\n",
       "47  8C6F7FB6-7F6C-48EE-8A3E-66671608E9FC           1       ZA             2   \n",
       "53  C169AE14-4531-4C96-B9B0-5799F904D93C           1       ZA             2   \n",
       "\n",
       "    company_id  institution_id  provider_id  tracking_id rec_number  \\\n",
       "47           1               0            0            0          0   \n",
       "53           1               0            0            0          0   \n",
       "\n",
       "   external_reference_number  \n",
       "47                       NaN  \n",
       "53                       NaN  \n",
       "\n",
       "[2 rows x 29 columns]"
      ]
     },
     "execution_count": 9,
     "metadata": {},
     "output_type": "execute_result"
    }
   ],
   "source": [
    "aplus_df.sample(2)"
   ]
  },
  {
   "cell_type": "code",
   "execution_count": 10,
   "id": "8eaac49e",
   "metadata": {},
   "outputs": [
    {
     "data": {
      "application/vnd.microsoft.datawrangler.viewer.v0+json": {
       "columns": [
        {
         "name": "index",
         "rawType": "int64",
         "type": "integer"
        },
        {
         "name": "id",
         "rawType": "int64",
         "type": "integer"
        },
        {
         "name": "AccountNo",
         "rawType": "int64",
         "type": "integer"
        },
        {
         "name": "Amount",
         "rawType": "int64",
         "type": "integer"
        },
        {
         "name": "fee",
         "rawType": "float64",
         "type": "float"
        },
        {
         "name": "Total",
         "rawType": "float64",
         "type": "float"
        },
        {
         "name": "ProviderNo",
         "rawType": "int64",
         "type": "integer"
        },
        {
         "name": "InstitutionNo",
         "rawType": "int64",
         "type": "integer"
        },
        {
         "name": "ProductNo",
         "rawType": "int64",
         "type": "integer"
        },
        {
         "name": "ClubCardNo",
         "rawType": "float64",
         "type": "float"
        },
        {
         "name": "TerminalId",
         "rawType": "int64",
         "type": "integer"
        },
        {
         "name": "MerchantId",
         "rawType": "int64",
         "type": "integer"
        },
        {
         "name": "TranType",
         "rawType": "object",
         "type": "string"
        },
        {
         "name": "RecordNo",
         "rawType": "int64",
         "type": "integer"
        },
        {
         "name": "Cashier",
         "rawType": "object",
         "type": "string"
        },
        {
         "name": "CashierName",
         "rawType": "object",
         "type": "string"
        },
        {
         "name": "Channel",
         "rawType": "object",
         "type": "string"
        },
        {
         "name": "CountryCode",
         "rawType": "object",
         "type": "string"
        },
        {
         "name": "Date",
         "rawType": "object",
         "type": "string"
        },
        {
         "name": "GUID",
         "rawType": "object",
         "type": "string"
        },
        {
         "name": "StoreNo",
         "rawType": "int64",
         "type": "integer"
        },
        {
         "name": "TillNo",
         "rawType": "int64",
         "type": "integer"
        },
        {
         "name": "Time",
         "rawType": "object",
         "type": "string"
        },
        {
         "name": "SaleNo",
         "rawType": "int64",
         "type": "integer"
        },
        {
         "name": "CompanyNo",
         "rawType": "int64",
         "type": "integer"
        },
        {
         "name": "ReceiverId",
         "rawType": "int64",
         "type": "integer"
        },
        {
         "name": "ReceiverName",
         "rawType": "object",
         "type": "string"
        },
        {
         "name": "ReferenceNumber",
         "rawType": "object",
         "type": "string"
        },
        {
         "name": "SettlementEntityId",
         "rawType": "int64",
         "type": "integer"
        },
        {
         "name": "SettlementEntityName",
         "rawType": "object",
         "type": "string"
        },
        {
         "name": "DueDate",
         "rawType": "float64",
         "type": "float"
        },
        {
         "name": "Type",
         "rawType": "object",
         "type": "string"
        },
        {
         "name": "CreatePaymentId",
         "rawType": "object",
         "type": "string"
        },
        {
         "name": "AdvicePaymentId",
         "rawType": "object",
         "type": "unknown"
        },
        {
         "name": "ReversePaymentId",
         "rawType": "object",
         "type": "unknown"
        },
        {
         "name": "AccountStatus",
         "rawType": "object",
         "type": "string"
        },
        {
         "name": "FirstName",
         "rawType": "object",
         "type": "string"
        },
        {
         "name": "LastName",
         "rawType": "object",
         "type": "string"
        },
        {
         "name": "PartPaymentAllowed",
         "rawType": "int64",
         "type": "integer"
        },
        {
         "name": "Message",
         "rawType": "object",
         "type": "string"
        },
        {
         "name": "SlipMessage",
         "rawType": "object",
         "type": "string"
        },
        {
         "name": "SwitchResponseCode",
         "rawType": "float64",
         "type": "float"
        },
        {
         "name": "SwitchTransactionId",
         "rawType": "object",
         "type": "string"
        },
        {
         "name": "CallCentre",
         "rawType": "float64",
         "type": "float"
        },
        {
         "name": "AggregatorId",
         "rawType": "float64",
         "type": "float"
        }
       ],
       "ref": "3093dc73-6d6c-407c-9e32-c9f57e4f22f5",
       "rows": [
        [
         "16",
         "3870515",
         "9501281028082",
         "12800",
         "0.0",
         null,
         "49",
         "8007",
         "27265",
         null,
         "1595201",
         "10107105952",
         "BP",
         "38388",
         "PELO",
         "BOIPELO",
         "GPOS",
         "ZA",
         "2025-06-06",
         "1881342C-9AF5-4DC0-8D0C-FBE924FFBC25",
         "5952",
         "1",
         "10:34:38",
         "37361",
         "1",
         "63294302",
         "MultiChoice DStv",
         "bill_6842a8d14b48ef811eda2b04",
         "63294313",
         "MomentCo",
         null,
         "AUTH",
         "1881342C-9AF5-4DC0-8D0C-FBE924FFBC25",
         null,
         null,
         "A",
         "Tsholofelo Lydia ",
         "Mokwena",
         "1",
         "Payment submitted successfully.",
         "Payment submitted successfully.",
         "0.0",
         "6842a8d8afd489e22ec7a53a",
         null,
         null
        ],
        [
         "55",
         "3870554",
         "6803015780084",
         "18000",
         "0.0",
         null,
         "49",
         "8007",
         "27265",
         null,
         "1493303",
         "10107104933",
         "BP",
         "60700",
         "KG",
         "REBONE",
         "GPOS",
         "ZA",
         "2025-06-06",
         "B7F775E1-CB7C-457E-A7E2-755F04D64FCD",
         "4933",
         "3",
         "10:41:06",
         "369857",
         "1",
         "63294302",
         "MultiChoice DStv",
         "bill_6842a8daafd489e22ec7a569",
         "63294313",
         "MomentCo",
         null,
         "AUTH",
         "B7F775E1-CB7C-457E-A7E2-755F04D64FCD",
         null,
         null,
         "A",
         "Magage",
         "Phasha",
         "1",
         "Payment submitted successfully.",
         "Payment submitted successfully.",
         "0.0",
         "6842a8deafd489e22ec7a5bc",
         null,
         null
        ]
       ],
       "shape": {
        "columns": 44,
        "rows": 2
       }
      },
      "text/html": [
       "<div>\n",
       "<style scoped>\n",
       "    .dataframe tbody tr th:only-of-type {\n",
       "        vertical-align: middle;\n",
       "    }\n",
       "\n",
       "    .dataframe tbody tr th {\n",
       "        vertical-align: top;\n",
       "    }\n",
       "\n",
       "    .dataframe thead th {\n",
       "        text-align: right;\n",
       "    }\n",
       "</style>\n",
       "<table border=\"1\" class=\"dataframe\">\n",
       "  <thead>\n",
       "    <tr style=\"text-align: right;\">\n",
       "      <th></th>\n",
       "      <th>id</th>\n",
       "      <th>AccountNo</th>\n",
       "      <th>Amount</th>\n",
       "      <th>fee</th>\n",
       "      <th>Total</th>\n",
       "      <th>ProviderNo</th>\n",
       "      <th>InstitutionNo</th>\n",
       "      <th>ProductNo</th>\n",
       "      <th>ClubCardNo</th>\n",
       "      <th>TerminalId</th>\n",
       "      <th>...</th>\n",
       "      <th>AccountStatus</th>\n",
       "      <th>FirstName</th>\n",
       "      <th>LastName</th>\n",
       "      <th>PartPaymentAllowed</th>\n",
       "      <th>Message</th>\n",
       "      <th>SlipMessage</th>\n",
       "      <th>SwitchResponseCode</th>\n",
       "      <th>SwitchTransactionId</th>\n",
       "      <th>CallCentre</th>\n",
       "      <th>AggregatorId</th>\n",
       "    </tr>\n",
       "  </thead>\n",
       "  <tbody>\n",
       "    <tr>\n",
       "      <th>16</th>\n",
       "      <td>3870515</td>\n",
       "      <td>9501281028082</td>\n",
       "      <td>12800</td>\n",
       "      <td>0.0</td>\n",
       "      <td>NaN</td>\n",
       "      <td>49</td>\n",
       "      <td>8007</td>\n",
       "      <td>27265</td>\n",
       "      <td>NaN</td>\n",
       "      <td>1595201</td>\n",
       "      <td>...</td>\n",
       "      <td>A</td>\n",
       "      <td>Tsholofelo Lydia</td>\n",
       "      <td>Mokwena</td>\n",
       "      <td>1</td>\n",
       "      <td>Payment submitted successfully.</td>\n",
       "      <td>Payment submitted successfully.</td>\n",
       "      <td>0.0</td>\n",
       "      <td>6842a8d8afd489e22ec7a53a</td>\n",
       "      <td>NaN</td>\n",
       "      <td>NaN</td>\n",
       "    </tr>\n",
       "    <tr>\n",
       "      <th>55</th>\n",
       "      <td>3870554</td>\n",
       "      <td>6803015780084</td>\n",
       "      <td>18000</td>\n",
       "      <td>0.0</td>\n",
       "      <td>NaN</td>\n",
       "      <td>49</td>\n",
       "      <td>8007</td>\n",
       "      <td>27265</td>\n",
       "      <td>NaN</td>\n",
       "      <td>1493303</td>\n",
       "      <td>...</td>\n",
       "      <td>A</td>\n",
       "      <td>Magage</td>\n",
       "      <td>Phasha</td>\n",
       "      <td>1</td>\n",
       "      <td>Payment submitted successfully.</td>\n",
       "      <td>Payment submitted successfully.</td>\n",
       "      <td>0.0</td>\n",
       "      <td>6842a8deafd489e22ec7a5bc</td>\n",
       "      <td>NaN</td>\n",
       "      <td>NaN</td>\n",
       "    </tr>\n",
       "  </tbody>\n",
       "</table>\n",
       "<p>2 rows × 44 columns</p>\n",
       "</div>"
      ],
      "text/plain": [
       "         id      AccountNo  Amount  fee  Total  ProviderNo  InstitutionNo  \\\n",
       "16  3870515  9501281028082   12800  0.0    NaN          49           8007   \n",
       "55  3870554  6803015780084   18000  0.0    NaN          49           8007   \n",
       "\n",
       "    ProductNo  ClubCardNo  TerminalId  ...  AccountStatus          FirstName  \\\n",
       "16      27265         NaN     1595201  ...              A  Tsholofelo Lydia    \n",
       "55      27265         NaN     1493303  ...              A             Magage   \n",
       "\n",
       "    LastName PartPaymentAllowed                          Message  \\\n",
       "16   Mokwena                  1  Payment submitted successfully.   \n",
       "55    Phasha                  1  Payment submitted successfully.   \n",
       "\n",
       "                        SlipMessage SwitchResponseCode  \\\n",
       "16  Payment submitted successfully.                0.0   \n",
       "55  Payment submitted successfully.                0.0   \n",
       "\n",
       "         SwitchTransactionId CallCentre  AggregatorId  \n",
       "16  6842a8d8afd489e22ec7a53a        NaN           NaN  \n",
       "55  6842a8deafd489e22ec7a5bc        NaN           NaN  \n",
       "\n",
       "[2 rows x 44 columns]"
      ]
     },
     "execution_count": 10,
     "metadata": {},
     "output_type": "execute_result"
    }
   ],
   "source": [
    "bill_df.sample(2)"
   ]
  },
  {
   "cell_type": "code",
   "execution_count": 11,
   "id": "d156835e",
   "metadata": {},
   "outputs": [
    {
     "data": {
      "application/vnd.microsoft.datawrangler.viewer.v0+json": {
       "columns": [
        {
         "name": "index",
         "rawType": "int64",
         "type": "integer"
        },
        {
         "name": "id",
         "rawType": "int64",
         "type": "integer"
        },
        {
         "name": "transaction_state_id",
         "rawType": "int64",
         "type": "integer"
        },
        {
         "name": "transaction_state",
         "rawType": "object",
         "type": "string"
        },
        {
         "name": "account_number",
         "rawType": "int64",
         "type": "integer"
        },
        {
         "name": "amount",
         "rawType": "int64",
         "type": "integer"
        },
        {
         "name": "response_code",
         "rawType": "float64",
         "type": "float"
        },
        {
         "name": "response_description",
         "rawType": "object",
         "type": "string"
        },
        {
         "name": "last_updated",
         "rawType": "object",
         "type": "string"
        },
        {
         "name": "reference_id",
         "rawType": "object",
         "type": "string"
        },
        {
         "name": "tender_type_id",
         "rawType": "int64",
         "type": "integer"
        },
        {
         "name": "store_number",
         "rawType": "int64",
         "type": "integer"
        },
        {
         "name": "till_number",
         "rawType": "int64",
         "type": "integer"
        },
        {
         "name": "sale_number",
         "rawType": "float64",
         "type": "float"
        },
        {
         "name": "guid",
         "rawType": "object",
         "type": "string"
        },
        {
         "name": "transaction_guid",
         "rawType": "object",
         "type": "unknown"
        },
        {
         "name": "channel_id",
         "rawType": "int64",
         "type": "integer"
        },
        {
         "name": "country_code",
         "rawType": "object",
         "type": "string"
        },
        {
         "name": "subsidiary_id",
         "rawType": "int64",
         "type": "integer"
        },
        {
         "name": "rec_number",
         "rawType": "int64",
         "type": "integer"
        },
        {
         "name": "store_date",
         "rawType": "object",
         "type": "string"
        },
        {
         "name": "cashier",
         "rawType": "int64",
         "type": "integer"
        },
        {
         "name": "round_amount",
         "rawType": "int64",
         "type": "integer"
        },
        {
         "name": "transaction_type",
         "rawType": "object",
         "type": "string"
        }
       ],
       "ref": "31e064b8-453e-45d2-8fa8-0b5080e8b02e",
       "rows": [
        [
         "159",
         "5720780",
         "15",
         "Layby Auth",
         "2085706250792036862",
         "20000",
         "0.0",
         "Approved",
         "2025-06-06 08:40:59",
         "28576246683409739",
         "1",
         "857",
         "6",
         "246683.0",
         "2E44F7CC-5FF7-498F-B1E7-7F8389762098",
         null,
         "3",
         "ZA",
         "2",
         "409739",
         "2025-06-06 10:41:18",
         "329841",
         "0",
         "LBRE"
        ],
        [
         "81",
         "5719743",
         "15",
         "Layby Auth",
         "2103614251118629663",
         "66455",
         "0.0",
         "Approved",
         "2025-06-06 08:33:42",
         "210369431910730787",
         "1",
         "1036",
         "9",
         "431910.0",
         "DCE9E4F5-A1A5-4F69-8FE3-22EB5987C7E0",
         null,
         "3",
         "ZA",
         "2",
         "730787",
         "2025-06-06 10:46:01",
         "58676",
         "0",
         "LBPA"
        ]
       ],
       "shape": {
        "columns": 23,
        "rows": 2
       }
      },
      "text/html": [
       "<div>\n",
       "<style scoped>\n",
       "    .dataframe tbody tr th:only-of-type {\n",
       "        vertical-align: middle;\n",
       "    }\n",
       "\n",
       "    .dataframe tbody tr th {\n",
       "        vertical-align: top;\n",
       "    }\n",
       "\n",
       "    .dataframe thead th {\n",
       "        text-align: right;\n",
       "    }\n",
       "</style>\n",
       "<table border=\"1\" class=\"dataframe\">\n",
       "  <thead>\n",
       "    <tr style=\"text-align: right;\">\n",
       "      <th></th>\n",
       "      <th>id</th>\n",
       "      <th>transaction_state_id</th>\n",
       "      <th>transaction_state</th>\n",
       "      <th>account_number</th>\n",
       "      <th>amount</th>\n",
       "      <th>response_code</th>\n",
       "      <th>response_description</th>\n",
       "      <th>last_updated</th>\n",
       "      <th>reference_id</th>\n",
       "      <th>tender_type_id</th>\n",
       "      <th>...</th>\n",
       "      <th>guid</th>\n",
       "      <th>transaction_guid</th>\n",
       "      <th>channel_id</th>\n",
       "      <th>country_code</th>\n",
       "      <th>subsidiary_id</th>\n",
       "      <th>rec_number</th>\n",
       "      <th>store_date</th>\n",
       "      <th>cashier</th>\n",
       "      <th>round_amount</th>\n",
       "      <th>transaction_type</th>\n",
       "    </tr>\n",
       "  </thead>\n",
       "  <tbody>\n",
       "    <tr>\n",
       "      <th>159</th>\n",
       "      <td>5720780</td>\n",
       "      <td>15</td>\n",
       "      <td>Layby Auth</td>\n",
       "      <td>2085706250792036862</td>\n",
       "      <td>20000</td>\n",
       "      <td>0.0</td>\n",
       "      <td>Approved</td>\n",
       "      <td>2025-06-06 08:40:59</td>\n",
       "      <td>28576246683409739</td>\n",
       "      <td>1</td>\n",
       "      <td>...</td>\n",
       "      <td>2E44F7CC-5FF7-498F-B1E7-7F8389762098</td>\n",
       "      <td>NaN</td>\n",
       "      <td>3</td>\n",
       "      <td>ZA</td>\n",
       "      <td>2</td>\n",
       "      <td>409739</td>\n",
       "      <td>2025-06-06 10:41:18</td>\n",
       "      <td>329841</td>\n",
       "      <td>0</td>\n",
       "      <td>LBRE</td>\n",
       "    </tr>\n",
       "    <tr>\n",
       "      <th>81</th>\n",
       "      <td>5719743</td>\n",
       "      <td>15</td>\n",
       "      <td>Layby Auth</td>\n",
       "      <td>2103614251118629663</td>\n",
       "      <td>66455</td>\n",
       "      <td>0.0</td>\n",
       "      <td>Approved</td>\n",
       "      <td>2025-06-06 08:33:42</td>\n",
       "      <td>210369431910730787</td>\n",
       "      <td>1</td>\n",
       "      <td>...</td>\n",
       "      <td>DCE9E4F5-A1A5-4F69-8FE3-22EB5987C7E0</td>\n",
       "      <td>NaN</td>\n",
       "      <td>3</td>\n",
       "      <td>ZA</td>\n",
       "      <td>2</td>\n",
       "      <td>730787</td>\n",
       "      <td>2025-06-06 10:46:01</td>\n",
       "      <td>58676</td>\n",
       "      <td>0</td>\n",
       "      <td>LBPA</td>\n",
       "    </tr>\n",
       "  </tbody>\n",
       "</table>\n",
       "<p>2 rows × 23 columns</p>\n",
       "</div>"
      ],
      "text/plain": [
       "          id  transaction_state_id transaction_state       account_number  \\\n",
       "159  5720780                    15        Layby Auth  2085706250792036862   \n",
       "81   5719743                    15        Layby Auth  2103614251118629663   \n",
       "\n",
       "     amount  response_code response_description         last_updated  \\\n",
       "159   20000            0.0             Approved  2025-06-06 08:40:59   \n",
       "81    66455            0.0             Approved  2025-06-06 08:33:42   \n",
       "\n",
       "           reference_id  tender_type_id  ...  \\\n",
       "159   28576246683409739               1  ...   \n",
       "81   210369431910730787               1  ...   \n",
       "\n",
       "                                     guid  transaction_guid  channel_id  \\\n",
       "159  2E44F7CC-5FF7-498F-B1E7-7F8389762098               NaN           3   \n",
       "81   DCE9E4F5-A1A5-4F69-8FE3-22EB5987C7E0               NaN           3   \n",
       "\n",
       "    country_code subsidiary_id  rec_number           store_date  cashier  \\\n",
       "159           ZA             2      409739  2025-06-06 10:41:18   329841   \n",
       "81            ZA             2      730787  2025-06-06 10:46:01    58676   \n",
       "\n",
       "     round_amount transaction_type  \n",
       "159             0             LBRE  \n",
       "81              0             LBPA  \n",
       "\n",
       "[2 rows x 23 columns]"
      ]
     },
     "execution_count": 11,
     "metadata": {},
     "output_type": "execute_result"
    }
   ],
   "source": [
    "laybye_df.sample(2)"
   ]
  },
  {
   "cell_type": "code",
   "execution_count": 12,
   "id": "bc748729",
   "metadata": {},
   "outputs": [
    {
     "data": {
      "application/vnd.microsoft.datawrangler.viewer.v0+json": {
       "columns": [
        {
         "name": "index",
         "rawType": "int64",
         "type": "integer"
        },
        {
         "name": "id",
         "rawType": "int64",
         "type": "integer"
        },
        {
         "name": "account_number",
         "rawType": "object",
         "type": "string"
        },
        {
         "name": "amount",
         "rawType": "int64",
         "type": "integer"
        },
        {
         "name": "channel",
         "rawType": "object",
         "type": "string"
        },
        {
         "name": "channel_id",
         "rawType": "int64",
         "type": "integer"
        },
        {
         "name": "company_id",
         "rawType": "int64",
         "type": "integer"
        },
        {
         "name": "country",
         "rawType": "object",
         "type": "string"
        },
        {
         "name": "external_reference_number",
         "rawType": "object",
         "type": "string"
        },
        {
         "name": "guid",
         "rawType": "object",
         "type": "string"
        },
        {
         "name": "institution_id",
         "rawType": "int64",
         "type": "integer"
        },
        {
         "name": "last_updated",
         "rawType": "object",
         "type": "string"
        },
        {
         "name": "payment_number",
         "rawType": "float64",
         "type": "float"
        },
        {
         "name": "provider_id",
         "rawType": "int64",
         "type": "integer"
        },
        {
         "name": "rec_number",
         "rawType": "int64",
         "type": "integer"
        },
        {
         "name": "reference",
         "rawType": "float64",
         "type": "float"
        },
        {
         "name": "reference_id",
         "rawType": "object",
         "type": "string"
        },
        {
         "name": "response_code",
         "rawType": "float64",
         "type": "float"
        },
        {
         "name": "response_description",
         "rawType": "object",
         "type": "string"
        },
        {
         "name": "sale_number",
         "rawType": "int64",
         "type": "integer"
        },
        {
         "name": "status",
         "rawType": "object",
         "type": "string"
        },
        {
         "name": "store_number",
         "rawType": "int64",
         "type": "integer"
        },
        {
         "name": "subsidiary_id",
         "rawType": "int64",
         "type": "integer"
        },
        {
         "name": "tender_type_code",
         "rawType": "object",
         "type": "unknown"
        },
        {
         "name": "tender_type",
         "rawType": "object",
         "type": "unknown"
        },
        {
         "name": "till_number",
         "rawType": "int64",
         "type": "integer"
        },
        {
         "name": "tracking_id",
         "rawType": "object",
         "type": "string"
        },
        {
         "name": "transaction_id",
         "rawType": "float64",
         "type": "float"
        },
        {
         "name": "transaction_state_id",
         "rawType": "int64",
         "type": "integer"
        },
        {
         "name": "user_account_id",
         "rawType": "int64",
         "type": "integer"
        },
        {
         "name": "user_id",
         "rawType": "object",
         "type": "string"
        }
       ],
       "ref": "3f99ba78-80e5-4f65-a7fe-9c334a82e5c0",
       "rows": [
        [
         "398",
         "92631581",
         "9113800011062186",
         "500000",
         "GPOS",
         "1",
         "1",
         "ZA",
         "2208059287707609",
         "BB1F5503-24F2-4D4A-ABFE-E5F4A7380B74",
         "1033",
         "2025-06-06 08:47:00",
         null,
         "18",
         "27959",
         null,
         "0183750300000684335030000027959",
         "0.0",
         "Success",
         "684335",
         "A",
         "8375",
         "1",
         null,
         null,
         "3",
         "2208059287707609",
         "946356810.0",
         "7",
         "0",
         "ANON"
        ],
        [
         "81",
         "92631898",
         "11734250028957",
         "11070",
         "GPOS",
         "1",
         "1",
         "ZA",
         "4094573246347576",
         "892F90B3-1B44-4CCA-BC99-CBDFD9BD803A",
         "3074",
         "2025-06-06 08:47:23",
         null,
         "9",
         "48947",
         null,
         "0165400500000414755030000048947",
         "0.0",
         "Success",
         "414755",
         "A",
         "6540",
         "1",
         null,
         null,
         "5",
         "4094573246347576",
         "946357129.0",
         "7",
         "0",
         "ANON"
        ]
       ],
       "shape": {
        "columns": 30,
        "rows": 2
       }
      },
      "text/html": [
       "<div>\n",
       "<style scoped>\n",
       "    .dataframe tbody tr th:only-of-type {\n",
       "        vertical-align: middle;\n",
       "    }\n",
       "\n",
       "    .dataframe tbody tr th {\n",
       "        vertical-align: top;\n",
       "    }\n",
       "\n",
       "    .dataframe thead th {\n",
       "        text-align: right;\n",
       "    }\n",
       "</style>\n",
       "<table border=\"1\" class=\"dataframe\">\n",
       "  <thead>\n",
       "    <tr style=\"text-align: right;\">\n",
       "      <th></th>\n",
       "      <th>id</th>\n",
       "      <th>account_number</th>\n",
       "      <th>amount</th>\n",
       "      <th>channel</th>\n",
       "      <th>channel_id</th>\n",
       "      <th>company_id</th>\n",
       "      <th>country</th>\n",
       "      <th>external_reference_number</th>\n",
       "      <th>guid</th>\n",
       "      <th>institution_id</th>\n",
       "      <th>...</th>\n",
       "      <th>store_number</th>\n",
       "      <th>subsidiary_id</th>\n",
       "      <th>tender_type_code</th>\n",
       "      <th>tender_type</th>\n",
       "      <th>till_number</th>\n",
       "      <th>tracking_id</th>\n",
       "      <th>transaction_id</th>\n",
       "      <th>transaction_state_id</th>\n",
       "      <th>user_account_id</th>\n",
       "      <th>user_id</th>\n",
       "    </tr>\n",
       "  </thead>\n",
       "  <tbody>\n",
       "    <tr>\n",
       "      <th>398</th>\n",
       "      <td>92631581</td>\n",
       "      <td>9113800011062186</td>\n",
       "      <td>500000</td>\n",
       "      <td>GPOS</td>\n",
       "      <td>1</td>\n",
       "      <td>1</td>\n",
       "      <td>ZA</td>\n",
       "      <td>2208059287707609</td>\n",
       "      <td>BB1F5503-24F2-4D4A-ABFE-E5F4A7380B74</td>\n",
       "      <td>1033</td>\n",
       "      <td>...</td>\n",
       "      <td>8375</td>\n",
       "      <td>1</td>\n",
       "      <td>NaN</td>\n",
       "      <td>NaN</td>\n",
       "      <td>3</td>\n",
       "      <td>2208059287707609</td>\n",
       "      <td>946356810.0</td>\n",
       "      <td>7</td>\n",
       "      <td>0</td>\n",
       "      <td>ANON</td>\n",
       "    </tr>\n",
       "    <tr>\n",
       "      <th>81</th>\n",
       "      <td>92631898</td>\n",
       "      <td>11734250028957</td>\n",
       "      <td>11070</td>\n",
       "      <td>GPOS</td>\n",
       "      <td>1</td>\n",
       "      <td>1</td>\n",
       "      <td>ZA</td>\n",
       "      <td>4094573246347576</td>\n",
       "      <td>892F90B3-1B44-4CCA-BC99-CBDFD9BD803A</td>\n",
       "      <td>3074</td>\n",
       "      <td>...</td>\n",
       "      <td>6540</td>\n",
       "      <td>1</td>\n",
       "      <td>NaN</td>\n",
       "      <td>NaN</td>\n",
       "      <td>5</td>\n",
       "      <td>4094573246347576</td>\n",
       "      <td>946357129.0</td>\n",
       "      <td>7</td>\n",
       "      <td>0</td>\n",
       "      <td>ANON</td>\n",
       "    </tr>\n",
       "  </tbody>\n",
       "</table>\n",
       "<p>2 rows × 30 columns</p>\n",
       "</div>"
      ],
      "text/plain": [
       "           id    account_number  amount channel  channel_id  company_id  \\\n",
       "398  92631581  9113800011062186  500000    GPOS           1           1   \n",
       "81   92631898    11734250028957   11070    GPOS           1           1   \n",
       "\n",
       "    country external_reference_number                                  guid  \\\n",
       "398      ZA          2208059287707609  BB1F5503-24F2-4D4A-ABFE-E5F4A7380B74   \n",
       "81       ZA          4094573246347576  892F90B3-1B44-4CCA-BC99-CBDFD9BD803A   \n",
       "\n",
       "     institution_id  ... store_number  subsidiary_id  tender_type_code  \\\n",
       "398            1033  ...         8375              1               NaN   \n",
       "81             3074  ...         6540              1               NaN   \n",
       "\n",
       "     tender_type  till_number       tracking_id  transaction_id  \\\n",
       "398          NaN            3  2208059287707609     946356810.0   \n",
       "81           NaN            5  4094573246347576     946357129.0   \n",
       "\n",
       "    transaction_state_id  user_account_id user_id  \n",
       "398                    7                0    ANON  \n",
       "81                     7                0    ANON  \n",
       "\n",
       "[2 rows x 30 columns]"
      ]
     },
     "execution_count": 12,
     "metadata": {},
     "output_type": "execute_result"
    }
   ],
   "source": [
    "online_payments_df.sample(2)"
   ]
  },
  {
   "cell_type": "code",
   "execution_count": 13,
   "id": "ccfa4e8c",
   "metadata": {},
   "outputs": [
    {
     "data": {
      "application/vnd.microsoft.datawrangler.viewer.v0+json": {
       "columns": [
        {
         "name": "index",
         "rawType": "int64",
         "type": "integer"
        },
        {
         "name": "id",
         "rawType": "int64",
         "type": "integer"
        },
        {
         "name": "providerNo",
         "rawType": "int64",
         "type": "integer"
        },
        {
         "name": "institutionNo",
         "rawType": "int64",
         "type": "integer"
        },
        {
         "name": "productNo",
         "rawType": "int64",
         "type": "integer"
        },
        {
         "name": "amount",
         "rawType": "int64",
         "type": "integer"
        },
        {
         "name": "terminalId",
         "rawType": "int64",
         "type": "integer"
        },
        {
         "name": "merchantId",
         "rawType": "int64",
         "type": "integer"
        },
        {
         "name": "recordNo",
         "rawType": "int64",
         "type": "integer"
        },
        {
         "name": "cashier",
         "rawType": "float64",
         "type": "float"
        },
        {
         "name": "cashierName",
         "rawType": "object",
         "type": "unknown"
        },
        {
         "name": "channelId",
         "rawType": "float64",
         "type": "float"
        },
        {
         "name": "countryCode",
         "rawType": "float64",
         "type": "float"
        },
        {
         "name": "date",
         "rawType": "object",
         "type": "string"
        },
        {
         "name": "guid",
         "rawType": "object",
         "type": "string"
        },
        {
         "name": "storeNo",
         "rawType": "int64",
         "type": "integer"
        },
        {
         "name": "tillNo",
         "rawType": "int64",
         "type": "integer"
        },
        {
         "name": "time",
         "rawType": "object",
         "type": "unknown"
        },
        {
         "name": "saleNo",
         "rawType": "int64",
         "type": "integer"
        },
        {
         "name": "companyNo",
         "rawType": "int64",
         "type": "integer"
        },
        {
         "name": "expiryDate",
         "rawType": "object",
         "type": "string"
        },
        {
         "name": "pin",
         "rawType": "object",
         "type": "string"
        },
        {
         "name": "serialNumber",
         "rawType": "object",
         "type": "string"
        },
        {
         "name": "responseCode",
         "rawType": "int64",
         "type": "integer"
        },
        {
         "name": "responseMessage",
         "rawType": "object",
         "type": "unknown"
        },
        {
         "name": "reference",
         "rawType": "object",
         "type": "string"
        },
        {
         "name": "transactionId",
         "rawType": "object",
         "type": "string"
        },
        {
         "name": "type",
         "rawType": "object",
         "type": "string"
        }
       ],
       "ref": "5fe0ef4d-4014-4084-b0b8-e60f41535298",
       "rows": [
        [
         "12",
         "147758",
         "25001",
         "25004",
         "25007",
         "100",
         "2157404",
         "20107101574",
         "210511",
         null,
         null,
         null,
         null,
         "2025-06-06",
         "8C4F11D9-E911-40C9-B110-C283BF5AC2D6",
         "1574",
         "4",
         "08:27:17",
         "131205",
         "2",
         "2028-06-06 08:26:53",
         "1119398487814236",
         "20250606082619763434",
         "0",
         "Success",
         "D241B54C-C576-4524-96EC-C007B8EA7373",
         "465817250",
         "ADVICE"
        ],
        [
         "107",
         "147853",
         "25002",
         "25034",
         "25158",
         "100",
         "2120103",
         "20107101201",
         "338844",
         null,
         null,
         null,
         null,
         "2025-06-06",
         "B231A8F7-2893-4195-815F-B4784FB0B3A5",
         "1201",
         "3",
         null,
         "392550",
         "2",
         "2028-06-06T07:10:30.307Z",
         "011938164049546",
         "138939996",
         "0",
         null,
         "B231A8F7-2893-4195-815F-B4784FB0B3A5",
         "B231A8F7-2893-4195-815F-B4784FB0B3A5",
         "AUTH"
        ]
       ],
       "shape": {
        "columns": 27,
        "rows": 2
       }
      },
      "text/html": [
       "<div>\n",
       "<style scoped>\n",
       "    .dataframe tbody tr th:only-of-type {\n",
       "        vertical-align: middle;\n",
       "    }\n",
       "\n",
       "    .dataframe tbody tr th {\n",
       "        vertical-align: top;\n",
       "    }\n",
       "\n",
       "    .dataframe thead th {\n",
       "        text-align: right;\n",
       "    }\n",
       "</style>\n",
       "<table border=\"1\" class=\"dataframe\">\n",
       "  <thead>\n",
       "    <tr style=\"text-align: right;\">\n",
       "      <th></th>\n",
       "      <th>id</th>\n",
       "      <th>providerNo</th>\n",
       "      <th>institutionNo</th>\n",
       "      <th>productNo</th>\n",
       "      <th>amount</th>\n",
       "      <th>terminalId</th>\n",
       "      <th>merchantId</th>\n",
       "      <th>recordNo</th>\n",
       "      <th>cashier</th>\n",
       "      <th>cashierName</th>\n",
       "      <th>...</th>\n",
       "      <th>saleNo</th>\n",
       "      <th>companyNo</th>\n",
       "      <th>expiryDate</th>\n",
       "      <th>pin</th>\n",
       "      <th>serialNumber</th>\n",
       "      <th>responseCode</th>\n",
       "      <th>responseMessage</th>\n",
       "      <th>reference</th>\n",
       "      <th>transactionId</th>\n",
       "      <th>type</th>\n",
       "    </tr>\n",
       "  </thead>\n",
       "  <tbody>\n",
       "    <tr>\n",
       "      <th>12</th>\n",
       "      <td>147758</td>\n",
       "      <td>25001</td>\n",
       "      <td>25004</td>\n",
       "      <td>25007</td>\n",
       "      <td>100</td>\n",
       "      <td>2157404</td>\n",
       "      <td>20107101574</td>\n",
       "      <td>210511</td>\n",
       "      <td>NaN</td>\n",
       "      <td>NaN</td>\n",
       "      <td>...</td>\n",
       "      <td>131205</td>\n",
       "      <td>2</td>\n",
       "      <td>2028-06-06 08:26:53</td>\n",
       "      <td>1119398487814236</td>\n",
       "      <td>20250606082619763434</td>\n",
       "      <td>0</td>\n",
       "      <td>Success</td>\n",
       "      <td>D241B54C-C576-4524-96EC-C007B8EA7373</td>\n",
       "      <td>465817250</td>\n",
       "      <td>ADVICE</td>\n",
       "    </tr>\n",
       "    <tr>\n",
       "      <th>107</th>\n",
       "      <td>147853</td>\n",
       "      <td>25002</td>\n",
       "      <td>25034</td>\n",
       "      <td>25158</td>\n",
       "      <td>100</td>\n",
       "      <td>2120103</td>\n",
       "      <td>20107101201</td>\n",
       "      <td>338844</td>\n",
       "      <td>NaN</td>\n",
       "      <td>NaN</td>\n",
       "      <td>...</td>\n",
       "      <td>392550</td>\n",
       "      <td>2</td>\n",
       "      <td>2028-06-06T07:10:30.307Z</td>\n",
       "      <td>011938164049546</td>\n",
       "      <td>138939996</td>\n",
       "      <td>0</td>\n",
       "      <td>NaN</td>\n",
       "      <td>B231A8F7-2893-4195-815F-B4784FB0B3A5</td>\n",
       "      <td>B231A8F7-2893-4195-815F-B4784FB0B3A5</td>\n",
       "      <td>AUTH</td>\n",
       "    </tr>\n",
       "  </tbody>\n",
       "</table>\n",
       "<p>2 rows × 27 columns</p>\n",
       "</div>"
      ],
      "text/plain": [
       "         id  providerNo  institutionNo  productNo  amount  terminalId  \\\n",
       "12   147758       25001          25004      25007     100     2157404   \n",
       "107  147853       25002          25034      25158     100     2120103   \n",
       "\n",
       "      merchantId  recordNo  cashier cashierName  ...  saleNo  companyNo  \\\n",
       "12   20107101574    210511      NaN         NaN  ...  131205          2   \n",
       "107  20107101201    338844      NaN         NaN  ...  392550          2   \n",
       "\n",
       "                   expiryDate               pin          serialNumber  \\\n",
       "12        2028-06-06 08:26:53  1119398487814236  20250606082619763434   \n",
       "107  2028-06-06T07:10:30.307Z   011938164049546             138939996   \n",
       "\n",
       "     responseCode responseMessage                             reference  \\\n",
       "12              0         Success  D241B54C-C576-4524-96EC-C007B8EA7373   \n",
       "107             0             NaN  B231A8F7-2893-4195-815F-B4784FB0B3A5   \n",
       "\n",
       "                            transactionId    type  \n",
       "12                              465817250  ADVICE  \n",
       "107  B231A8F7-2893-4195-815F-B4784FB0B3A5    AUTH  \n",
       "\n",
       "[2 rows x 27 columns]"
      ]
     },
     "execution_count": 13,
     "metadata": {},
     "output_type": "execute_result"
    }
   ],
   "source": [
    "vcs_df.sample(2)"
   ]
  },
  {
   "cell_type": "code",
   "execution_count": 14,
   "id": "6a9365e4",
   "metadata": {},
   "outputs": [
    {
     "data": {
      "application/vnd.microsoft.datawrangler.viewer.v0+json": {
       "columns": [
        {
         "name": "index",
         "rawType": "int64",
         "type": "integer"
        },
        {
         "name": "id",
         "rawType": "int64",
         "type": "integer"
        },
        {
         "name": "transaction_state_id",
         "rawType": "int64",
         "type": "integer"
        },
        {
         "name": "contact_number",
         "rawType": "int64",
         "type": "integer"
        },
        {
         "name": "amount",
         "rawType": "int64",
         "type": "integer"
        },
        {
         "name": "response_code",
         "rawType": "float64",
         "type": "float"
        },
        {
         "name": "response_description",
         "rawType": "object",
         "type": "string"
        },
        {
         "name": "last_updated",
         "rawType": "object",
         "type": "string"
        },
        {
         "name": "reference_id",
         "rawType": "int64",
         "type": "integer"
        },
        {
         "name": "tender_type_id",
         "rawType": "int64",
         "type": "integer"
        },
        {
         "name": "store_number",
         "rawType": "int64",
         "type": "integer"
        },
        {
         "name": "till_number",
         "rawType": "int64",
         "type": "integer"
        },
        {
         "name": "sale_number",
         "rawType": "int64",
         "type": "integer"
        },
        {
         "name": "transaction_guid",
         "rawType": "object",
         "type": "string"
        },
        {
         "name": "channel_id",
         "rawType": "int64",
         "type": "integer"
        },
        {
         "name": "country_code",
         "rawType": "object",
         "type": "string"
        },
        {
         "name": "subsidiary_id",
         "rawType": "int64",
         "type": "integer"
        },
        {
         "name": "rec_number",
         "rawType": "int64",
         "type": "integer"
        },
        {
         "name": "store_date",
         "rawType": "float64",
         "type": "float"
        },
        {
         "name": "transaction_state",
         "rawType": "float64",
         "type": "float"
        },
        {
         "name": "cashier",
         "rawType": "object",
         "type": "string"
        }
       ],
       "ref": "dda6ad20-0bc5-46e6-8b5b-827e19701197",
       "rows": [
        [
         "92",
         "168761",
         "34",
         "676291984",
         "110",
         "0.0",
         "Approved - Voucher Created",
         "2025-06-05 15:51:33",
         "211786534663471321",
         "1",
         "1178",
         "6",
         "534663",
         "346208F4-BE28-46E0-AA05-DB2F1A5C6CBD",
         "1",
         "ZA",
         "2",
         "471321",
         null,
         null,
         "NOMAZULU"
        ],
        [
         "474",
         "169143",
         "34",
         "734495303",
         "160",
         "0.0",
         "Approved - Voucher Created",
         "2025-06-05 16:43:52",
         "211531252665335190",
         "1",
         "1153",
         "1",
         "252665",
         "BDC7348E-61BA-49B9-B095-372FFC2954F7",
         "1",
         "ZA",
         "2",
         "335190",
         null,
         null,
         "LWANDO"
        ]
       ],
       "shape": {
        "columns": 20,
        "rows": 2
       }
      },
      "text/html": [
       "<div>\n",
       "<style scoped>\n",
       "    .dataframe tbody tr th:only-of-type {\n",
       "        vertical-align: middle;\n",
       "    }\n",
       "\n",
       "    .dataframe tbody tr th {\n",
       "        vertical-align: top;\n",
       "    }\n",
       "\n",
       "    .dataframe thead th {\n",
       "        text-align: right;\n",
       "    }\n",
       "</style>\n",
       "<table border=\"1\" class=\"dataframe\">\n",
       "  <thead>\n",
       "    <tr style=\"text-align: right;\">\n",
       "      <th></th>\n",
       "      <th>id</th>\n",
       "      <th>transaction_state_id</th>\n",
       "      <th>contact_number</th>\n",
       "      <th>amount</th>\n",
       "      <th>response_code</th>\n",
       "      <th>response_description</th>\n",
       "      <th>last_updated</th>\n",
       "      <th>reference_id</th>\n",
       "      <th>tender_type_id</th>\n",
       "      <th>store_number</th>\n",
       "      <th>till_number</th>\n",
       "      <th>sale_number</th>\n",
       "      <th>transaction_guid</th>\n",
       "      <th>channel_id</th>\n",
       "      <th>country_code</th>\n",
       "      <th>subsidiary_id</th>\n",
       "      <th>rec_number</th>\n",
       "      <th>store_date</th>\n",
       "      <th>transaction_state</th>\n",
       "      <th>cashier</th>\n",
       "    </tr>\n",
       "  </thead>\n",
       "  <tbody>\n",
       "    <tr>\n",
       "      <th>92</th>\n",
       "      <td>168761</td>\n",
       "      <td>34</td>\n",
       "      <td>676291984</td>\n",
       "      <td>110</td>\n",
       "      <td>0.0</td>\n",
       "      <td>Approved - Voucher Created</td>\n",
       "      <td>2025-06-05 15:51:33</td>\n",
       "      <td>211786534663471321</td>\n",
       "      <td>1</td>\n",
       "      <td>1178</td>\n",
       "      <td>6</td>\n",
       "      <td>534663</td>\n",
       "      <td>346208F4-BE28-46E0-AA05-DB2F1A5C6CBD</td>\n",
       "      <td>1</td>\n",
       "      <td>ZA</td>\n",
       "      <td>2</td>\n",
       "      <td>471321</td>\n",
       "      <td>NaN</td>\n",
       "      <td>NaN</td>\n",
       "      <td>NOMAZULU</td>\n",
       "    </tr>\n",
       "    <tr>\n",
       "      <th>474</th>\n",
       "      <td>169143</td>\n",
       "      <td>34</td>\n",
       "      <td>734495303</td>\n",
       "      <td>160</td>\n",
       "      <td>0.0</td>\n",
       "      <td>Approved - Voucher Created</td>\n",
       "      <td>2025-06-05 16:43:52</td>\n",
       "      <td>211531252665335190</td>\n",
       "      <td>1</td>\n",
       "      <td>1153</td>\n",
       "      <td>1</td>\n",
       "      <td>252665</td>\n",
       "      <td>BDC7348E-61BA-49B9-B095-372FFC2954F7</td>\n",
       "      <td>1</td>\n",
       "      <td>ZA</td>\n",
       "      <td>2</td>\n",
       "      <td>335190</td>\n",
       "      <td>NaN</td>\n",
       "      <td>NaN</td>\n",
       "      <td>LWANDO</td>\n",
       "    </tr>\n",
       "  </tbody>\n",
       "</table>\n",
       "</div>"
      ],
      "text/plain": [
       "         id  transaction_state_id  contact_number  amount  response_code  \\\n",
       "92   168761                    34       676291984     110            0.0   \n",
       "474  169143                    34       734495303     160            0.0   \n",
       "\n",
       "           response_description         last_updated        reference_id  \\\n",
       "92   Approved - Voucher Created  2025-06-05 15:51:33  211786534663471321   \n",
       "474  Approved - Voucher Created  2025-06-05 16:43:52  211531252665335190   \n",
       "\n",
       "     tender_type_id  store_number  till_number  sale_number  \\\n",
       "92                1          1178            6       534663   \n",
       "474               1          1153            1       252665   \n",
       "\n",
       "                         transaction_guid  channel_id country_code  \\\n",
       "92   346208F4-BE28-46E0-AA05-DB2F1A5C6CBD           1           ZA   \n",
       "474  BDC7348E-61BA-49B9-B095-372FFC2954F7           1           ZA   \n",
       "\n",
       "     subsidiary_id  rec_number  store_date  transaction_state   cashier  \n",
       "92               2      471321         NaN                NaN  NOMAZULU  \n",
       "474              2      335190         NaN                NaN    LWANDO  "
      ]
     },
     "execution_count": 14,
     "metadata": {},
     "output_type": "execute_result"
    }
   ],
   "source": [
    "voucher_df.sample(2)"
   ]
  },
  {
   "cell_type": "code",
   "execution_count": 3,
   "id": "81d5a1d5",
   "metadata": {},
   "outputs": [],
   "source": [
    "ackermans_app_df = pd.read_csv(\n",
    "    \"/Users/thobelasixpence/Documents/mlops-zoomcamp-project-2024/MLOps-hotel-reservation-prediction-system/data/raw/ackermans_application_log.csv\"\n",
    ")\n",
    "third_party_df = pd.read_csv(\n",
    "    \"/Users/thobelasixpence/Documents/mlops-zoomcamp-project-2024/MLOps-hotel-reservation-prediction-system/data/raw/third_party_applications.csv\"\n",
    ")"
   ]
  },
  {
   "cell_type": "code",
   "execution_count": 4,
   "id": "cdb01926",
   "metadata": {},
   "outputs": [
    {
     "data": {
      "application/vnd.microsoft.datawrangler.viewer.v0+json": {
       "columns": [
        {
         "name": "index",
         "rawType": "int64",
         "type": "integer"
        },
        {
         "name": "id",
         "rawType": "int64",
         "type": "integer"
        },
        {
         "name": "id_number",
         "rawType": "int64",
         "type": "integer"
        },
        {
         "name": "id_type",
         "rawType": "object",
         "type": "string"
        },
        {
         "name": "id_country",
         "rawType": "object",
         "type": "string"
        },
        {
         "name": "country_code",
         "rawType": "object",
         "type": "string"
        },
        {
         "name": "store_number",
         "rawType": "int64",
         "type": "integer"
        },
        {
         "name": "till_number",
         "rawType": "int64",
         "type": "integer"
        },
        {
         "name": "sale_number",
         "rawType": "int64",
         "type": "integer"
        },
        {
         "name": "name",
         "rawType": "object",
         "type": "string"
        },
        {
         "name": "surname",
         "rawType": "object",
         "type": "string"
        },
        {
         "name": "contact_number",
         "rawType": "int64",
         "type": "integer"
        },
        {
         "name": "result",
         "rawType": "object",
         "type": "string"
        },
        {
         "name": "result_description",
         "rawType": "object",
         "type": "string"
        },
        {
         "name": "institution_number",
         "rawType": "int64",
         "type": "integer"
        },
        {
         "name": "provider_number",
         "rawType": "int64",
         "type": "integer"
        },
        {
         "name": "application_type",
         "rawType": "object",
         "type": "string"
        },
        {
         "name": "application_date",
         "rawType": "object",
         "type": "string"
        },
        {
         "name": "guid",
         "rawType": "object",
         "type": "string"
        },
        {
         "name": "cashier",
         "rawType": "object",
         "type": "string"
        },
        {
         "name": "subsidiary_id",
         "rawType": "int64",
         "type": "integer"
        }
       ],
       "ref": "9005a06c-801b-43db-bd4d-5812799bd5a6",
       "rows": [
        [
         "5",
         "32268",
         "86952617",
         "B",
         "BW",
         "BW",
         "2029",
         "3",
         "37065",
         "SHELLY",
         "VICTOR",
         "77969383",
         "Continue",
         "Continue with new application.",
         "15",
         "14",
         "B1",
         "2025-06-06 10:24:00",
         "1D33675A-5706-4FA9-9F14-8DB6DC164701",
         "110510",
         "2"
        ],
        [
         "54",
         "32219",
         "9201016491081",
         "I",
         "ZA",
         "ZA",
         "1351",
         "1",
         "240264",
         "TSHILIDZI",
         "MONYAI",
         "609351962",
         "Reject",
         "Application in decline status exist.",
         "-1",
         "14",
         "P1",
         "2025-06-06 09:01:10",
         "755BB3F7-2409-4FA8-9FC0-A02773BBE2B8",
         "030538",
         "2"
        ]
       ],
       "shape": {
        "columns": 20,
        "rows": 2
       }
      },
      "text/html": [
       "<div>\n",
       "<style scoped>\n",
       "    .dataframe tbody tr th:only-of-type {\n",
       "        vertical-align: middle;\n",
       "    }\n",
       "\n",
       "    .dataframe tbody tr th {\n",
       "        vertical-align: top;\n",
       "    }\n",
       "\n",
       "    .dataframe thead th {\n",
       "        text-align: right;\n",
       "    }\n",
       "</style>\n",
       "<table border=\"1\" class=\"dataframe\">\n",
       "  <thead>\n",
       "    <tr style=\"text-align: right;\">\n",
       "      <th></th>\n",
       "      <th>id</th>\n",
       "      <th>id_number</th>\n",
       "      <th>id_type</th>\n",
       "      <th>id_country</th>\n",
       "      <th>country_code</th>\n",
       "      <th>store_number</th>\n",
       "      <th>till_number</th>\n",
       "      <th>sale_number</th>\n",
       "      <th>name</th>\n",
       "      <th>surname</th>\n",
       "      <th>contact_number</th>\n",
       "      <th>result</th>\n",
       "      <th>result_description</th>\n",
       "      <th>institution_number</th>\n",
       "      <th>provider_number</th>\n",
       "      <th>application_type</th>\n",
       "      <th>application_date</th>\n",
       "      <th>guid</th>\n",
       "      <th>cashier</th>\n",
       "      <th>subsidiary_id</th>\n",
       "    </tr>\n",
       "  </thead>\n",
       "  <tbody>\n",
       "    <tr>\n",
       "      <th>5</th>\n",
       "      <td>32268</td>\n",
       "      <td>86952617</td>\n",
       "      <td>B</td>\n",
       "      <td>BW</td>\n",
       "      <td>BW</td>\n",
       "      <td>2029</td>\n",
       "      <td>3</td>\n",
       "      <td>37065</td>\n",
       "      <td>SHELLY</td>\n",
       "      <td>VICTOR</td>\n",
       "      <td>77969383</td>\n",
       "      <td>Continue</td>\n",
       "      <td>Continue with new application.</td>\n",
       "      <td>15</td>\n",
       "      <td>14</td>\n",
       "      <td>B1</td>\n",
       "      <td>2025-06-06 10:24:00</td>\n",
       "      <td>1D33675A-5706-4FA9-9F14-8DB6DC164701</td>\n",
       "      <td>110510</td>\n",
       "      <td>2</td>\n",
       "    </tr>\n",
       "    <tr>\n",
       "      <th>54</th>\n",
       "      <td>32219</td>\n",
       "      <td>9201016491081</td>\n",
       "      <td>I</td>\n",
       "      <td>ZA</td>\n",
       "      <td>ZA</td>\n",
       "      <td>1351</td>\n",
       "      <td>1</td>\n",
       "      <td>240264</td>\n",
       "      <td>TSHILIDZI</td>\n",
       "      <td>MONYAI</td>\n",
       "      <td>609351962</td>\n",
       "      <td>Reject</td>\n",
       "      <td>Application in decline status exist.</td>\n",
       "      <td>-1</td>\n",
       "      <td>14</td>\n",
       "      <td>P1</td>\n",
       "      <td>2025-06-06 09:01:10</td>\n",
       "      <td>755BB3F7-2409-4FA8-9FC0-A02773BBE2B8</td>\n",
       "      <td>030538</td>\n",
       "      <td>2</td>\n",
       "    </tr>\n",
       "  </tbody>\n",
       "</table>\n",
       "</div>"
      ],
      "text/plain": [
       "       id      id_number id_type id_country country_code  store_number  \\\n",
       "5   32268       86952617       B         BW           BW          2029   \n",
       "54  32219  9201016491081       I         ZA           ZA          1351   \n",
       "\n",
       "    till_number  sale_number       name surname  contact_number    result  \\\n",
       "5             3        37065     SHELLY  VICTOR        77969383  Continue   \n",
       "54            1       240264  TSHILIDZI  MONYAI       609351962    Reject   \n",
       "\n",
       "                      result_description  institution_number  provider_number  \\\n",
       "5         Continue with new application.                  15               14   \n",
       "54  Application in decline status exist.                  -1               14   \n",
       "\n",
       "   application_type     application_date  \\\n",
       "5                B1  2025-06-06 10:24:00   \n",
       "54               P1  2025-06-06 09:01:10   \n",
       "\n",
       "                                    guid cashier  subsidiary_id  \n",
       "5   1D33675A-5706-4FA9-9F14-8DB6DC164701  110510              2  \n",
       "54  755BB3F7-2409-4FA8-9FC0-A02773BBE2B8  030538              2  "
      ]
     },
     "execution_count": 4,
     "metadata": {},
     "output_type": "execute_result"
    }
   ],
   "source": [
    "ackermans_app_df.sample(2)"
   ]
  },
  {
   "cell_type": "code",
   "execution_count": 5,
   "id": "a4d37d28",
   "metadata": {},
   "outputs": [
    {
     "data": {
      "application/vnd.microsoft.datawrangler.viewer.v0+json": {
       "columns": [
        {
         "name": "index",
         "rawType": "int64",
         "type": "integer"
        },
        {
         "name": "id",
         "rawType": "int64",
         "type": "integer"
        },
        {
         "name": "transaction_id",
         "rawType": "int64",
         "type": "integer"
        },
        {
         "name": "user_id",
         "rawType": "object",
         "type": "string"
        },
        {
         "name": "id_number",
         "rawType": "int64",
         "type": "integer"
        },
        {
         "name": "id_type",
         "rawType": "object",
         "type": "string"
        },
        {
         "name": "id_country",
         "rawType": "object",
         "type": "string"
        },
        {
         "name": "id_scanned",
         "rawType": "object",
         "type": "string"
        },
        {
         "name": "gross_monthly_income",
         "rawType": "float64",
         "type": "float"
        },
        {
         "name": "name",
         "rawType": "object",
         "type": "string"
        },
        {
         "name": "surname",
         "rawType": "object",
         "type": "string"
        },
        {
         "name": "dob",
         "rawType": "object",
         "type": "string"
        },
        {
         "name": "canvasser_code",
         "rawType": "object",
         "type": "string"
        },
        {
         "name": "contact_number",
         "rawType": "int64",
         "type": "integer"
        },
        {
         "name": "status",
         "rawType": "object",
         "type": "unknown"
        },
        {
         "name": "external_application_id",
         "rawType": "object",
         "type": "unknown"
        },
        {
         "name": "outcome",
         "rawType": "object",
         "type": "unknown"
        },
        {
         "name": "message",
         "rawType": "object",
         "type": "unknown"
        },
        {
         "name": "transaction_date",
         "rawType": "object",
         "type": "string"
        }
       ],
       "ref": "8b27d460-4de3-40a3-87ae-3ea48f54b22a",
       "rows": [
        [
         "36",
         "32139",
         "32139",
         "anon",
         "6412145163086",
         "I",
         "ZA",
         "Y",
         "2194.33",
         "MERVIN",
         "PLAATJIES",
         "1964-12-14",
         "153337",
         "785739557",
         null,
         null,
         null,
         null,
         "2025-06-06 10:00:34"
        ],
        [
         "22",
         "32153",
         "32153",
         "anon",
         "86952617",
         "B",
         "BW",
         "Y",
         "2915.0",
         "SHELLY",
         "VICTOR",
         "1988-05-09",
         "F00296",
         "77969383",
         null,
         null,
         null,
         null,
         "2025-06-06 10:23:59"
        ]
       ],
       "shape": {
        "columns": 18,
        "rows": 2
       }
      },
      "text/html": [
       "<div>\n",
       "<style scoped>\n",
       "    .dataframe tbody tr th:only-of-type {\n",
       "        vertical-align: middle;\n",
       "    }\n",
       "\n",
       "    .dataframe tbody tr th {\n",
       "        vertical-align: top;\n",
       "    }\n",
       "\n",
       "    .dataframe thead th {\n",
       "        text-align: right;\n",
       "    }\n",
       "</style>\n",
       "<table border=\"1\" class=\"dataframe\">\n",
       "  <thead>\n",
       "    <tr style=\"text-align: right;\">\n",
       "      <th></th>\n",
       "      <th>id</th>\n",
       "      <th>transaction_id</th>\n",
       "      <th>user_id</th>\n",
       "      <th>id_number</th>\n",
       "      <th>id_type</th>\n",
       "      <th>id_country</th>\n",
       "      <th>id_scanned</th>\n",
       "      <th>gross_monthly_income</th>\n",
       "      <th>name</th>\n",
       "      <th>surname</th>\n",
       "      <th>dob</th>\n",
       "      <th>canvasser_code</th>\n",
       "      <th>contact_number</th>\n",
       "      <th>status</th>\n",
       "      <th>external_application_id</th>\n",
       "      <th>outcome</th>\n",
       "      <th>message</th>\n",
       "      <th>transaction_date</th>\n",
       "    </tr>\n",
       "  </thead>\n",
       "  <tbody>\n",
       "    <tr>\n",
       "      <th>36</th>\n",
       "      <td>32139</td>\n",
       "      <td>32139</td>\n",
       "      <td>anon</td>\n",
       "      <td>6412145163086</td>\n",
       "      <td>I</td>\n",
       "      <td>ZA</td>\n",
       "      <td>Y</td>\n",
       "      <td>2194.33</td>\n",
       "      <td>MERVIN</td>\n",
       "      <td>PLAATJIES</td>\n",
       "      <td>1964-12-14</td>\n",
       "      <td>153337</td>\n",
       "      <td>785739557</td>\n",
       "      <td>NaN</td>\n",
       "      <td>NaN</td>\n",
       "      <td>NaN</td>\n",
       "      <td>NaN</td>\n",
       "      <td>2025-06-06 10:00:34</td>\n",
       "    </tr>\n",
       "    <tr>\n",
       "      <th>22</th>\n",
       "      <td>32153</td>\n",
       "      <td>32153</td>\n",
       "      <td>anon</td>\n",
       "      <td>86952617</td>\n",
       "      <td>B</td>\n",
       "      <td>BW</td>\n",
       "      <td>Y</td>\n",
       "      <td>2915.00</td>\n",
       "      <td>SHELLY</td>\n",
       "      <td>VICTOR</td>\n",
       "      <td>1988-05-09</td>\n",
       "      <td>F00296</td>\n",
       "      <td>77969383</td>\n",
       "      <td>NaN</td>\n",
       "      <td>NaN</td>\n",
       "      <td>NaN</td>\n",
       "      <td>NaN</td>\n",
       "      <td>2025-06-06 10:23:59</td>\n",
       "    </tr>\n",
       "  </tbody>\n",
       "</table>\n",
       "</div>"
      ],
      "text/plain": [
       "       id  transaction_id user_id      id_number id_type id_country  \\\n",
       "36  32139           32139    anon  6412145163086       I         ZA   \n",
       "22  32153           32153    anon       86952617       B         BW   \n",
       "\n",
       "   id_scanned  gross_monthly_income    name    surname         dob  \\\n",
       "36          Y               2194.33  MERVIN  PLAATJIES  1964-12-14   \n",
       "22          Y               2915.00  SHELLY     VICTOR  1988-05-09   \n",
       "\n",
       "   canvasser_code  contact_number status external_application_id outcome  \\\n",
       "36         153337       785739557    NaN                     NaN     NaN   \n",
       "22         F00296        77969383    NaN                     NaN     NaN   \n",
       "\n",
       "   message     transaction_date  \n",
       "36     NaN  2025-06-06 10:00:34  \n",
       "22     NaN  2025-06-06 10:23:59  "
      ]
     },
     "execution_count": 5,
     "metadata": {},
     "output_type": "execute_result"
    }
   ],
   "source": [
    "third_party_df.sample(2)"
   ]
  },
  {
   "cell_type": "code",
   "execution_count": null,
   "id": "50a4284e",
   "metadata": {},
   "outputs": [],
   "source": []
  }
 ],
 "metadata": {
  "kernelspec": {
   "display_name": ".venv",
   "language": "python",
   "name": "python3"
  },
  "language_info": {
   "codemirror_mode": {
    "name": "ipython",
    "version": 3
   },
   "file_extension": ".py",
   "mimetype": "text/x-python",
   "name": "python",
   "nbconvert_exporter": "python",
   "pygments_lexer": "ipython3",
   "version": "3.11.11"
  }
 },
 "nbformat": 4,
 "nbformat_minor": 5
}
